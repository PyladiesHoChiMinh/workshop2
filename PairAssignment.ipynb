{
 "cells": [
  {
   "cell_type": "markdown",
   "metadata": {},
   "source": [
    "### Pyladies - Ho Chi Minh Chapter | Workshop 2: Variables and basic data types\n",
    "\n",
    "Hello and welcome to the pair-programming assignment!\n",
    "\n",
    "It's a pair assignment, so there will be two of you working together. Please look around and say \"Hi!\"\n",
    "\n",
    "Also, some of us, lead and assistant instructor, around to answer your question. Feel free to raise your hands :)\n",
    "\n",
    "#### Introduction\n",
    "\n",
    "This assignment is partially adpated from an excercise of `Google Python developer class` to play around with baby names. We will walk you through again the previous content of presentations as well as add it up by some hands-on practices to read and write file, parse a string in a file from a complex file with a `re`, Regular Expression Python library.\n",
    "\n",
    "Here includes ten practice excercises. The last will include 10 serial problems which rely on the previous nine. So, save your time as much as possible. Use `Ctrl+Shift+Tab` for suggestions and examples. And don't forget your friend, `Google`\n",
    "\n",
    "#### Learning objectives\n",
    "- Know how to import a library, read and write files\n",
    "- Get familiar with basic built-in string methods\n",
    "- Power-up yourself with `re` to process text of `html`\n",
    "\n"
   ]
  },
  {
   "cell_type": "markdown",
   "metadata": {},
   "source": [
    "#### 1. Importing library\n",
    "\n",
    "Let us pratice how to import a library in `python`. This time, we will start with a very common one named `sys`. Import a library and test by printing its documentation, `sys.__doc__`"
   ]
  },
  {
   "cell_type": "code",
   "execution_count": null,
   "metadata": {},
   "outputs": [],
   "source": []
  },
  {
   "cell_type": "markdown",
   "metadata": {},
   "source": [
    "#### 2. Regular Expression\n",
    "\n",
    "Let us do the previous part again with `re` to prepare for the next step"
   ]
  },
  {
   "cell_type": "code",
   "execution_count": null,
   "metadata": {},
   "outputs": [],
   "source": []
  },
  {
   "cell_type": "markdown",
   "metadata": {},
   "source": [
    "#### 3. How read a file\n",
    "\n",
    "Here, we will show you how to read a text file in `python`. One of the most basic structure is \n",
    "\n",
    "```python\n",
    "with open(path_to_textfile, \"r\") as f:\n",
    "    text = f.read()\n",
    "```\n",
    "\n",
    "Here `path_to_textfile` is a variable representing for a string of your file location. Put a value to it and run a snippet."
   ]
  },
  {
   "cell_type": "code",
   "execution_count": null,
   "metadata": {},
   "outputs": [],
   "source": [
    "path_to_html = # Fill a value of variable. It should be a string\n",
    "with open(path_to_html, \"r\") as f:\n",
    "    text = f.read()"
   ]
  },
  {
   "cell_type": "code",
   "execution_count": null,
   "metadata": {},
   "outputs": [],
   "source": []
  },
  {
   "cell_type": "markdown",
   "metadata": {},
   "source": [
    "#### 4. How to process a file\n",
    "\n",
    "In this section, we will spend time on learning how to split text into multiple items. Luckily, `python` has already supported us this part. Let use `split` method with an input `\"\\n\"` to get a list of names, and then print the first ten elements. \n",
    "\n",
    "Hint: You can look at the next session to see how to do\n"
   ]
  },
  {
   "cell_type": "code",
   "execution_count": null,
   "metadata": {},
   "outputs": [],
   "source": []
  },
  {
   "cell_type": "markdown",
   "metadata": {},
   "source": [
    "#### 5. How to get an element of a list\n",
    "\n",
    "In `list` you can take the first `k` elements by adding the following after your list variable `[:k]`. You can try `[k]` to see a difference. Set `k = 5` and show us how different it is\n",
    "\n",
    "Notice: In `python`, the first index is `0`. Pay attention!!!"
   ]
  },
  {
   "cell_type": "code",
   "execution_count": null,
   "metadata": {},
   "outputs": [],
   "source": []
  },
  {
   "cell_type": "markdown",
   "metadata": {},
   "source": [
    "##### 6. Extract the name\n",
    "\n",
    "Great! Here we are at the most interesting part of this assignment. In this part, we will parse every element of the list into three things, e.g. `index`, `first_name`, `last_name`. \n",
    "\n",
    "Take the first string element of the list, and then split by a blank `\" \"`.\n",
    "\n",
    "Hint: You can name `index`, `first_name`, `last_name`  with respect to three correspondent results."
   ]
  },
  {
   "cell_type": "code",
   "execution_count": null,
   "metadata": {},
   "outputs": [],
   "source": [
    "# Code to extract name from a string '10 Joseph Lauren' => 10, 'Joshep', 'Lauren'\n",
    "index, first_name, last_name = "
   ]
  },
  {
   "cell_type": "markdown",
   "metadata": {},
   "source": [
    "##### 7. Join two strings\n",
    "\n",
    "In this part, you will learn how to join two strings together. Let us apply `+` to `first_name` and `last_name` to see what will happen."
   ]
  },
  {
   "cell_type": "code",
   "execution_count": null,
   "metadata": {},
   "outputs": [],
   "source": [
    "# Code to join two string"
   ]
  },
  {
   "cell_type": "markdown",
   "metadata": {},
   "source": [
    "##### 8. Check if a `full_name` ending with `Lauren`\n",
    "\n"
   ]
  },
  {
   "cell_type": "code",
   "execution_count": null,
   "metadata": {},
   "outputs": [],
   "source": [
    "# Code to check a full_name ending with 'Lauren'"
   ]
  },
  {
   "cell_type": "markdown",
   "metadata": {},
   "source": [
    "##### 9. Lowercase and uppercase a string"
   ]
  },
  {
   "cell_type": "code",
   "execution_count": null,
   "metadata": {},
   "outputs": [],
   "source": [
    "# Code to lowercase your string. For example: Pyladies => pyladies"
   ]
  },
  {
   "cell_type": "code",
   "execution_count": null,
   "metadata": {},
   "outputs": [],
   "source": [
    "# Code to uppercase your string. For example: Pyladies => PYLADIES"
   ]
  },
  {
   "cell_type": "markdown",
   "metadata": {},
   "source": [
    "##### 10. Using `re` to process text\n",
    "\n",
    "The last excercise is trying to wrap-up your knowledge. This will combine many steps which we have already done so far. Keep calm and carry on!\n",
    "\n",
    "a. Read a file `baby1990.html`"
   ]
  },
  {
   "cell_type": "code",
   "execution_count": null,
   "metadata": {},
   "outputs": [],
   "source": []
  },
  {
   "cell_type": "markdown",
   "metadata": {},
   "source": [
    "b. Print `text` to see how it looks"
   ]
  },
  {
   "cell_type": "code",
   "execution_count": null,
   "metadata": {},
   "outputs": [],
   "source": []
  },
  {
   "cell_type": "markdown",
   "metadata": {},
   "source": [
    "c. Split `text` by `\"\\n\"' and print the first 10 strings"
   ]
  },
  {
   "cell_type": "code",
   "execution_count": null,
   "metadata": {},
   "outputs": [],
   "source": []
  },
  {
   "cell_type": "markdown",
   "metadata": {},
   "source": [
    "d. Search a pattern and get a year by the following example\n",
    "\n",
    "```python\n",
    "year_pattern = r'Popularity\\sin\\s(\\d\\d\\d\\d)'\n",
    "year_match = re.search(year_pattern, your_text_file)\n",
    "year_match.group(1)\n",
    "```"
   ]
  },
  {
   "cell_type": "code",
   "execution_count": null,
   "metadata": {},
   "outputs": [],
   "source": []
  },
  {
   "cell_type": "markdown",
   "metadata": {},
   "source": [
    "e. Search a pattern and get index, first_name, last_name\n",
    "\n",
    "```python\n",
    "name_pattern = r'<td>(\\d+)</td><td>(\\w+)</td>\\<td>(\\w+)</td>'\n",
    "tuples = re.findall(name_pattern, text)\n",
    "tuples[:10]\n",
    "```"
   ]
  },
  {
   "cell_type": "code",
   "execution_count": null,
   "metadata": {},
   "outputs": [],
   "source": []
  },
  {
   "cell_type": "markdown",
   "metadata": {},
   "source": [
    "Another way for you to view the `tuple` is doing as following. \n",
    "```python\n",
    "for index, first_name, family_name in tuples:\n",
    "    print(first_name, family_name)\n",
    "```\n",
    "Try the above snippet and play around with it to see how it works"
   ]
  },
  {
   "cell_type": "code",
   "execution_count": null,
   "metadata": {},
   "outputs": [],
   "source": []
  },
  {
   "cell_type": "markdown",
   "metadata": {},
   "source": [
    "f. Finally, here we are showing you how to write everything by `def`. The only part you have to do is writing a `docstring`"
   ]
  },
  {
   "cell_type": "code",
   "execution_count": 1,
   "metadata": {},
   "outputs": [],
   "source": [
    "def print_first_name_upper_case(html_file):\n",
    "    \"\"\"\n",
    "    Write your docstring\n",
    "    \"\"\"\n",
    "    with open(html_file, 'r+') as f:\n",
    "        text = f.read()\n",
    "    tuples = re.findall(r'<td>(\\d+)</td><td>(\\w+)</td>\\<td>(\\w+)</td>', text)\n",
    "    for _, first_name, _ in tuples[:10]:\n",
    "        print(first_name.upper())"
   ]
  },
  {
   "cell_type": "code",
   "execution_count": null,
   "metadata": {},
   "outputs": [],
   "source": [
    "print_first_name_upper_case(\"./html/baby2008.html\")"
   ]
  }
 ],
 "metadata": {
  "kernelspec": {
   "display_name": "Python 3",
   "language": "python",
   "name": "python3"
  },
  "language_info": {
   "codemirror_mode": {
    "name": "ipython",
    "version": 3
   },
   "file_extension": ".py",
   "mimetype": "text/x-python",
   "name": "python",
   "nbconvert_exporter": "python",
   "pygments_lexer": "ipython3",
   "version": "3.6.4"
  }
 },
 "nbformat": 4,
 "nbformat_minor": 2
}
