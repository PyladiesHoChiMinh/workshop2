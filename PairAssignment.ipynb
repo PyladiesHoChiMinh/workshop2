{
 "cells": [
  {
   "cell_type": "markdown",
   "metadata": {},
   "source": [
    "### Pyladies - Ho Chi Minh Chapter | Workshop 2: Variables and basic data types\n",
    "\n",
    "Hello, welcome to the pair-programming assignment!\n",
    "\n",
    "It's a pair assignment! Please work with another person to complete. \n",
    "\n",
    "There will be people around to answer your question. Feel free to raise your hands :)\n",
    "\n",
    "#### Introduction\n",
    "\n",
    "This assignment is partially adpated from an excercise of `Google Python developer class` to play around with baby names. We will walk you through again the previous content of presentations as well as add it up by some hands-on practices to read and write file, parse a string in a file from a complex file with a `re`, Regular Expression Python library.\n",
    "\n",
    "Here includes ten practice excercises. The last will include 10 serial problems which rely on the previous nine. So, save your time as much as possible. Use `Ctrl+Shift+Tab` for suggestions and examples. And don't forget your friend, `Google`\n",
    "\n",
    "#### Learning objectives\n",
    "- Know how to import a library, read and write files\n",
    "- Get familiar with basic built-in string methods\n",
    "- Power-up yourself with `re` to process text of `html`\n",
    "\n"
   ]
  },
  {
   "cell_type": "markdown",
   "metadata": {},
   "source": [
    "#### 1. Importing library\n",
    "\n",
    "Let us pratice how to import a library in `python`. This time, we will start with a very common one named `sys`. Import a library and test by printing its documentation, `sys.__doc__`"
   ]
  },
  {
   "cell_type": "code",
   "execution_count": null,
   "metadata": {},
   "outputs": [],
   "source": []
  },
  {
   "cell_type": "markdown",
   "metadata": {},
   "source": [
    "#### 2. Regular Expression\n",
    "\n",
    "Let us do the previous part again with `re` to prepare for the next step"
   ]
  },
  {
   "cell_type": "code",
   "execution_count": 78,
   "metadata": {},
   "outputs": [],
   "source": [
    "import re"
   ]
  },
  {
   "cell_type": "markdown",
   "metadata": {},
   "source": [
    "#### 3. How read a file\n",
    "\n",
    "Here, we will show you how to read a text file in `python`. One of the most basic structure is \n",
    "\n",
    "```python\n",
    "with open(path_to_textfile, \"r\") as f:\n",
    "    text = f.read()\n",
    "```\n",
    "\n",
    "Here `path_to_textfile` is a variable representing for a string of your file location. Put a value to it and run a snippet."
   ]
  },
  {
   "cell_type": "code",
   "execution_count": 13,
   "metadata": {},
   "outputs": [
    {
     "ename": "SyntaxError",
     "evalue": "invalid syntax (<ipython-input-13-2a9ccd81286e>, line 1)",
     "output_type": "error",
     "traceback": [
      "\u001b[0;36m  File \u001b[0;32m\"<ipython-input-13-2a9ccd81286e>\"\u001b[0;36m, line \u001b[0;32m1\u001b[0m\n\u001b[0;31m    path_to_html = # Should be a string\u001b[0m\n\u001b[0m                                       ^\u001b[0m\n\u001b[0;31mSyntaxError\u001b[0m\u001b[0;31m:\u001b[0m invalid syntax\n"
     ]
    }
   ],
   "source": [
    "path_to_html = # Should be a string\n",
    "with open(path_to_html, \"r\") as f:\n",
    "    text = f.read()"
   ]
  },
  {
   "cell_type": "code",
   "execution_count": null,
   "metadata": {},
   "outputs": [],
   "source": [
    "text"
   ]
  },
  {
   "cell_type": "markdown",
   "metadata": {},
   "source": [
    "#### 4. How to process a file\n",
    "\n",
    "In this section, we will spend time on learning how to split text into multiple items. Luckily, `python` has already supported us this part. Let use `split` method with an input `\"\\n\"` to get a list of names, and then print the first ten elements. \n",
    "\n",
    "Hint: You can look at the next session to see how to do\n"
   ]
  },
  {
   "cell_type": "code",
   "execution_count": 97,
   "metadata": {},
   "outputs": [
    {
     "data": {
      "text/plain": [
       "['1 Michael Jessica',\n",
       " '2 Christopher Ashley',\n",
       " '3 Matthew Brittany',\n",
       " '4 Joshua Amanda',\n",
       " '5 Daniel Samantha',\n",
       " '6 David Sarah',\n",
       " '7 Andrew Stephanie',\n",
       " '8 James Jennifer',\n",
       " '9 Justin Elizabeth',\n",
       " '10 Joseph Lauren']"
      ]
     },
     "execution_count": 97,
     "metadata": {},
     "output_type": "execute_result"
    }
   ],
   "source": [
    "text.split(\"\\n\")[:10]"
   ]
  },
  {
   "cell_type": "markdown",
   "metadata": {},
   "source": [
    "#### 5. How to get an element of a list\n",
    "\n",
    "In `list` you can take the first `k` elements by adding the following after your list variable `[:k]`. You can try `[k]` to see a difference.\n",
    "\n",
    "Notice: In `python`, the first index is `0`. Pay attention!!!"
   ]
  },
  {
   "cell_type": "code",
   "execution_count": 98,
   "metadata": {},
   "outputs": [
    {
     "data": {
      "text/plain": [
       "'1 Michael Jessica'"
      ]
     },
     "execution_count": 98,
     "metadata": {},
     "output_type": "execute_result"
    }
   ],
   "source": [
    "text.split(\"\\n\")[0]"
   ]
  },
  {
   "cell_type": "code",
   "execution_count": 99,
   "metadata": {},
   "outputs": [
    {
     "data": {
      "text/plain": [
       "['1 Michael Jessica',\n",
       " '2 Christopher Ashley',\n",
       " '3 Matthew Brittany',\n",
       " '4 Joshua Amanda',\n",
       " '5 Daniel Samantha',\n",
       " '6 David Sarah',\n",
       " '7 Andrew Stephanie',\n",
       " '8 James Jennifer',\n",
       " '9 Justin Elizabeth',\n",
       " '10 Joseph Lauren']"
      ]
     },
     "execution_count": 99,
     "metadata": {},
     "output_type": "execute_result"
    }
   ],
   "source": [
    "# Code to extract name from a string '10 Joseph Lauren' => 10, 'Joshep', 'Lauren'\n",
    "text.split(\"\\n\")[:10]"
   ]
  },
  {
   "cell_type": "markdown",
   "metadata": {},
   "source": [
    "##### 6. Extract the name\n",
    "\n",
    "Great, here we are at the most interesting part of this assignment. In this part, we will parse every element of the list into three things, e.g. `index`, `first_name`, `last_name`. \n",
    "\n",
    "Take the first string element of the list, and then split by a blank `\" \"`.\n",
    "\n",
    "Hint: You can name `index`, `first_name`, `last_name`  with respect to three correspondent results."
   ]
  },
  {
   "cell_type": "code",
   "execution_count": 16,
   "metadata": {},
   "outputs": [
    {
     "ename": "SyntaxError",
     "evalue": "invalid syntax (<ipython-input-16-5707f3898cf7>, line 1)",
     "output_type": "error",
     "traceback": [
      "\u001b[0;36m  File \u001b[0;32m\"<ipython-input-16-5707f3898cf7>\"\u001b[0;36m, line \u001b[0;32m1\u001b[0m\n\u001b[0;31m    index, first_name, last_name =\u001b[0m\n\u001b[0m                                   ^\u001b[0m\n\u001b[0;31mSyntaxError\u001b[0m\u001b[0;31m:\u001b[0m invalid syntax\n"
     ]
    }
   ],
   "source": [
    "# Code to extract name from a string '10 Joseph Lauren' => 10, 'Joshep', 'Lauren'\n",
    "index, first_name, last_name = "
   ]
  },
  {
   "cell_type": "markdown",
   "metadata": {},
   "source": [
    "##### 7. Join two strings\n",
    "\n",
    "In this part, you will learn how to join two strings together. Let us apply `+` to `first_name` and `last_name` to see what will happen."
   ]
  },
  {
   "cell_type": "code",
   "execution_count": 18,
   "metadata": {},
   "outputs": [],
   "source": [
    "# Code to join two string"
   ]
  },
  {
   "cell_type": "markdown",
   "metadata": {},
   "source": [
    "##### 8. Check if a `full_name` ending with `Lauren`\n",
    "\n"
   ]
  },
  {
   "cell_type": "code",
   "execution_count": null,
   "metadata": {},
   "outputs": [],
   "source": [
    "# Code to check a full_name ending with 'Lauren'"
   ]
  },
  {
   "cell_type": "markdown",
   "metadata": {},
   "source": [
    "##### 9. Lowercase and uppercase a string"
   ]
  },
  {
   "cell_type": "code",
   "execution_count": null,
   "metadata": {},
   "outputs": [],
   "source": [
    "# Code to lowercase your string. For example: Pyladies => pyladies"
   ]
  },
  {
   "cell_type": "code",
   "execution_count": 17,
   "metadata": {},
   "outputs": [],
   "source": [
    "# Code to uppercase your string. For example: Pyladies => PYLADIES"
   ]
  },
  {
   "cell_type": "markdown",
   "metadata": {},
   "source": [
    "##### 10. Using `re` to process text\n",
    "\n",
    "The last excercise is trying to wrap-up your knowledge. This will combine many steps which we have already done so far. Keep calm and carry on!\n",
    "\n",
    "a. Read a file `baby1990.html`"
   ]
  },
  {
   "cell_type": "code",
   "execution_count": 20,
   "metadata": {},
   "outputs": [],
   "source": [
    "path_to_html = \"./html/baby1990.html\"\n",
    "with open(path_to_html, \"r\") as f:\n",
    "    text = f.read()\n"
   ]
  },
  {
   "cell_type": "markdown",
   "metadata": {},
   "source": [
    "b. Print `text` to see how it looks"
   ]
  },
  {
   "cell_type": "code",
   "execution_count": 21,
   "metadata": {},
   "outputs": [
    {
     "data": {
      "text/plain": [
       "''"
      ]
     },
     "execution_count": 21,
     "metadata": {},
     "output_type": "execute_result"
    }
   ],
   "source": [
    "text[:100]"
   ]
  },
  {
   "cell_type": "markdown",
   "metadata": {},
   "source": [
    "c. Split `text` by `\"\\n\"' and print the first 10 strings"
   ]
  },
  {
   "cell_type": "code",
   "execution_count": 22,
   "metadata": {},
   "outputs": [
    {
     "data": {
      "text/plain": [
       "['']"
      ]
     },
     "execution_count": 22,
     "metadata": {},
     "output_type": "execute_result"
    }
   ],
   "source": [
    "text.split(\"\\n\")[:100]"
   ]
  },
  {
   "cell_type": "markdown",
   "metadata": {},
   "source": [
    "d. Search a pattern and get a year by the following example\n",
    "\n",
    "```python\n",
    "year_pattern = r'Popularity\\sin\\s(\\d\\d\\d\\d)'\n",
    "year_match = re.search(year_pattern, your_text_file)\n",
    "year_match.group(1)\n",
    "```"
   ]
  },
  {
   "cell_type": "code",
   "execution_count": 117,
   "metadata": {},
   "outputs": [
    {
     "data": {
      "text/plain": [
       "'1990'"
      ]
     },
     "execution_count": 117,
     "metadata": {},
     "output_type": "execute_result"
    }
   ],
   "source": []
  },
  {
   "cell_type": "markdown",
   "metadata": {},
   "source": [
    "e. Search a pattern and get index, first_name, last_name\n",
    "\n",
    "```python\n",
    "name_pattern = r'<td>(\\d+)</td><td>(\\w+)</td>\\<td>(\\w+)</td>'\n",
    "tuples = re.findall(name_pattern, text)\n",
    "tuples[:10]\n",
    "```"
   ]
  },
  {
   "cell_type": "code",
   "execution_count": 123,
   "metadata": {},
   "outputs": [
    {
     "data": {
      "text/plain": [
       "[('1', 'Michael', 'Jessica'),\n",
       " ('2', 'Christopher', 'Ashley'),\n",
       " ('3', 'Matthew', 'Brittany'),\n",
       " ('4', 'Joshua', 'Amanda'),\n",
       " ('5', 'Daniel', 'Samantha'),\n",
       " ('6', 'David', 'Sarah'),\n",
       " ('7', 'Andrew', 'Stephanie'),\n",
       " ('8', 'James', 'Jennifer'),\n",
       " ('9', 'Justin', 'Elizabeth'),\n",
       " ('10', 'Joseph', 'Lauren')]"
      ]
     },
     "execution_count": 123,
     "metadata": {},
     "output_type": "execute_result"
    }
   ],
   "source": [
    "tuples = re.findall(r'<td>(\\d+)</td><td>(\\w+)</td>\\<td>(\\w+)</td>', text)\n",
    "tuples[:10]"
   ]
  },
  {
   "cell_type": "markdown",
   "metadata": {},
   "source": [
    "Another way for you to view the `tuple` is doing as following. \n",
    "```python\n",
    "for index, first_name, family_name in tuples:\n",
    "    print(first_name, family_name)\n",
    "```\n",
    "Try the above snippet and play around with it to see how it works"
   ]
  },
  {
   "cell_type": "code",
   "execution_count": 23,
   "metadata": {},
   "outputs": [
    {
     "ename": "NameError",
     "evalue": "name 'tuples' is not defined",
     "output_type": "error",
     "traceback": [
      "\u001b[0;31m---------------------------------------------------------------------------\u001b[0m",
      "\u001b[0;31mNameError\u001b[0m                                 Traceback (most recent call last)",
      "\u001b[0;32m<ipython-input-23-61720e69def6>\u001b[0m in \u001b[0;36m<module>\u001b[0;34m()\u001b[0m\n\u001b[0;32m----> 1\u001b[0;31m \u001b[0;32mfor\u001b[0m \u001b[0mindex\u001b[0m\u001b[0;34m,\u001b[0m \u001b[0mfirst_name\u001b[0m\u001b[0;34m,\u001b[0m \u001b[0mfamily_name\u001b[0m \u001b[0;32min\u001b[0m \u001b[0mtuples\u001b[0m\u001b[0;34m:\u001b[0m\u001b[0;34m\u001b[0m\u001b[0m\n\u001b[0m\u001b[1;32m      2\u001b[0m     \u001b[0mprint\u001b[0m\u001b[0;34m(\u001b[0m\u001b[0mfirst_name\u001b[0m\u001b[0;34m,\u001b[0m \u001b[0mfamily_name\u001b[0m\u001b[0;34m)\u001b[0m\u001b[0;34m\u001b[0m\u001b[0m\n",
      "\u001b[0;31mNameError\u001b[0m: name 'tuples' is not defined"
     ]
    }
   ],
   "source": [
    "for index, first_name, family_name in tuples:\n",
    "    print(first_name, family_name)"
   ]
  },
  {
   "cell_type": "markdown",
   "metadata": {},
   "source": [
    "f. Finally, here we are showing you how to write everything by `def`"
   ]
  },
  {
   "cell_type": "code",
   "execution_count": 151,
   "metadata": {},
   "outputs": [],
   "source": [
    "def print_first_name_upper_case(html_file):\n",
    "    with open(html_file, 'r+') as f:\n",
    "        text = f.read()\n",
    "    tuples = re.findall(r'<td>(\\d+)</td><td>(\\w+)</td>\\<td>(\\w+)</td>', text)\n",
    "    for _, first_name, _ in tuples[:10]:\n",
    "        print(first_name.upper())"
   ]
  },
  {
   "cell_type": "code",
   "execution_count": 152,
   "metadata": {},
   "outputs": [
    {
     "name": "stdout",
     "output_type": "stream",
     "text": [
      "JACOB\n",
      "MICHAEL\n",
      "ETHAN\n",
      "JOSHUA\n",
      "DANIEL\n",
      "ALEXANDER\n",
      "ANTHONY\n",
      "WILLIAM\n",
      "CHRISTOPHER\n",
      "MATTHEW\n"
     ]
    }
   ],
   "source": [
    "print_first_name_upper_case(\"./html/baby2008.html\")"
   ]
  },
  {
   "cell_type": "code",
   "execution_count": null,
   "metadata": {},
   "outputs": [],
   "source": []
  },
  {
   "cell_type": "code",
   "execution_count": null,
   "metadata": {},
   "outputs": [],
   "source": []
  }
 ],
 "metadata": {
  "kernelspec": {
   "display_name": "Python 3",
   "language": "python",
   "name": "python3"
  },
  "language_info": {
   "codemirror_mode": {
    "name": "ipython",
    "version": 3
   },
   "file_extension": ".py",
   "mimetype": "text/x-python",
   "name": "python",
   "nbconvert_exporter": "python",
   "pygments_lexer": "ipython3",
   "version": "3.6.4"
  }
 },
 "nbformat": 4,
 "nbformat_minor": 2
}
